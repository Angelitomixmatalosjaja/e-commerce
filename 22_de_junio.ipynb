{
 "cells": [
  {
   "cell_type": "markdown",
   "metadata": {},
   "source": [
    "# 🏢 PROYECTO: Análisis de ventas de e-commerce multicanal"
   ]
  },
  {
   "cell_type": "markdown",
   "metadata": {},
   "source": [
    "## 🎯Objetivo:\n",
    "\n",
    "el jefe quiere saber como estan comportando las ventas en diferentes canales (web, app, sucursal), identificar los productos y clientes mas rentables, y detectar posibles mejoras"
   ]
  },
  {
   "cell_type": "code",
   "execution_count": 1,
   "metadata": {},
   "outputs": [],
   "source": [
    "import pandas as pd\n",
    "import numpy as np\n",
    "\n",
    "np.random.seed(42)\n",
    "\n",
    "clientes = [f'C{i:03}' for i in range(1, 51)]\n",
    "productos = ['Laptop', 'Audífonos', 'Celular', 'Mouse', 'Teclado', 'Monitor']\n",
    "categorias = {\n",
    "    'Laptop': 'Tecnología',\n",
    "    'Audífonos': 'Accesorios',\n",
    "    'Celular': 'Tecnología',\n",
    "    'Mouse': 'Accesorios',\n",
    "    'Teclado': 'Accesorios',\n",
    "    'Monitor': 'Tecnología'\n",
    "}\n",
    "ciudades = ['CDMX', 'GDL', 'MTY', 'Puebla', 'Querétaro']\n",
    "canales = ['Web', 'App', 'Sucursal']\n",
    "pagos = ['Tarjeta', 'Efectivo', 'Transferencia']\n",
    "\n",
    "data = []\n",
    "\n",
    "for i in range(1, 301):  # 300 pedidos\n",
    "    producto = np.random.choice(productos)\n",
    "    data.append({\n",
    "        'Pedido_ID': f'P{i:03}',\n",
    "        'Cliente_ID': np.random.choice(clientes),\n",
    "        'Fecha': pd.Timestamp('2024-01-01') + pd.to_timedelta(np.random.randint(0, 180), unit='D'),\n",
    "        'Producto': producto,\n",
    "        'Categoría': categorias[producto],\n",
    "        'Precio': np.random.randint(500, 20000),\n",
    "        'Unidades': np.random.randint(1, 5),\n",
    "        'Ciudad': np.random.choice(ciudades),\n",
    "        'Canal_Venta': np.random.choice(canales),\n",
    "        'Método_Pago': np.random.choice(pagos)\n",
    "    })\n",
    "\n",
    "df = pd.DataFrame(data)\n",
    "df['Total_Venta'] = df['Precio'] * df['Unidades']"
   ]
  },
  {
   "cell_type": "markdown",
   "metadata": {},
   "source": [
    "## 🧪 Tareas principales:\n",
    "\n",
    "1. Ventas totales por ciudad y canal\n",
    "2. Top 5 productos mas vendidos por unidades y por ingresos\n",
    "3. Clientes con mas compras (por cantidad y monto)\n",
    "4. Análsis mensual de ventas (tendencia por mes)\n",
    "5. Dashboards:\n",
    ". grafico de barras : venta por canal\n",
    ". pie chart : ventas por categoria\n",
    ". linea de tiempo : ventas mensuales\n",
    ". tabla con resumen por ciudad"
   ]
  },
  {
   "cell_type": "markdown",
   "metadata": {},
   "source": [
    "## 🎯 KPIs clave a calcular:\n",
    "\t•\tTicket promedio por cliente\n",
    "\t•\tParticipación de canales (Web vs App vs Sucursal)\n",
    "\t•\tCiudad con mejor desempeño\n",
    "\t•\tProducto estrella por ingresos\n",
    "\t•\tClientes VIP"
   ]
  },
  {
   "cell_type": "markdown",
   "metadata": {},
   "source": [
    "### Ventas totales por ciudad y canal 📍"
   ]
  },
  {
   "cell_type": "code",
   "execution_count": 2,
   "metadata": {},
   "outputs": [
    {
     "data": {
      "text/html": [
       "<div>\n",
       "<style scoped>\n",
       "    .dataframe tbody tr th:only-of-type {\n",
       "        vertical-align: middle;\n",
       "    }\n",
       "\n",
       "    .dataframe tbody tr th {\n",
       "        vertical-align: top;\n",
       "    }\n",
       "\n",
       "    .dataframe thead th {\n",
       "        text-align: right;\n",
       "    }\n",
       "</style>\n",
       "<table border=\"1\" class=\"dataframe\">\n",
       "  <thead>\n",
       "    <tr style=\"text-align: right;\">\n",
       "      <th></th>\n",
       "      <th>Ciudad</th>\n",
       "      <th>Total_Venta</th>\n",
       "    </tr>\n",
       "  </thead>\n",
       "  <tbody>\n",
       "    <tr>\n",
       "      <th>4</th>\n",
       "      <td>Querétaro</td>\n",
       "      <td>1805651</td>\n",
       "    </tr>\n",
       "    <tr>\n",
       "      <th>1</th>\n",
       "      <td>GDL</td>\n",
       "      <td>1767506</td>\n",
       "    </tr>\n",
       "    <tr>\n",
       "      <th>2</th>\n",
       "      <td>MTY</td>\n",
       "      <td>1667774</td>\n",
       "    </tr>\n",
       "    <tr>\n",
       "      <th>0</th>\n",
       "      <td>CDMX</td>\n",
       "      <td>1288160</td>\n",
       "    </tr>\n",
       "    <tr>\n",
       "      <th>3</th>\n",
       "      <td>Puebla</td>\n",
       "      <td>1173412</td>\n",
       "    </tr>\n",
       "  </tbody>\n",
       "</table>\n",
       "</div>"
      ],
      "text/plain": [
       "      Ciudad  Total_Venta\n",
       "4  Querétaro      1805651\n",
       "1        GDL      1767506\n",
       "2        MTY      1667774\n",
       "0       CDMX      1288160\n",
       "3     Puebla      1173412"
      ]
     },
     "execution_count": 2,
     "metadata": {},
     "output_type": "execute_result"
    }
   ],
   "source": [
    "ventas_totales_por_ciudad = df.groupby('Ciudad')['Total_Venta'].sum().reset_index()\n",
    "ventas_totales_por_ciudad = ventas_totales_por_ciudad.sort_values(by='Total_Venta', ascending=False)\n",
    "ventas_totales_por_ciudad"
   ]
  },
  {
   "cell_type": "code",
   "execution_count": 3,
   "metadata": {},
   "outputs": [
    {
     "data": {
      "text/html": [
       "<div>\n",
       "<style scoped>\n",
       "    .dataframe tbody tr th:only-of-type {\n",
       "        vertical-align: middle;\n",
       "    }\n",
       "\n",
       "    .dataframe tbody tr th {\n",
       "        vertical-align: top;\n",
       "    }\n",
       "\n",
       "    .dataframe thead th {\n",
       "        text-align: right;\n",
       "    }\n",
       "</style>\n",
       "<table border=\"1\" class=\"dataframe\">\n",
       "  <thead>\n",
       "    <tr style=\"text-align: right;\">\n",
       "      <th></th>\n",
       "      <th>Canal_Venta</th>\n",
       "      <th>Total_Venta</th>\n",
       "    </tr>\n",
       "  </thead>\n",
       "  <tbody>\n",
       "    <tr>\n",
       "      <th>2</th>\n",
       "      <td>Web</td>\n",
       "      <td>2788238</td>\n",
       "    </tr>\n",
       "    <tr>\n",
       "      <th>1</th>\n",
       "      <td>Sucursal</td>\n",
       "      <td>2500816</td>\n",
       "    </tr>\n",
       "    <tr>\n",
       "      <th>0</th>\n",
       "      <td>App</td>\n",
       "      <td>2413449</td>\n",
       "    </tr>\n",
       "  </tbody>\n",
       "</table>\n",
       "</div>"
      ],
      "text/plain": [
       "  Canal_Venta  Total_Venta\n",
       "2         Web      2788238\n",
       "1    Sucursal      2500816\n",
       "0         App      2413449"
      ]
     },
     "execution_count": 3,
     "metadata": {},
     "output_type": "execute_result"
    }
   ],
   "source": [
    "ventas_por_canal = df.groupby('Canal_Venta')['Total_Venta'].sum().reset_index()\n",
    "ventas_por_canal = ventas_por_canal.sort_values(by='Total_Venta', ascending=False)\n",
    "ventas_por_canal"
   ]
  },
  {
   "cell_type": "code",
   "execution_count": 4,
   "metadata": {},
   "outputs": [
    {
     "data": {
      "text/html": [
       "<div>\n",
       "<style scoped>\n",
       "    .dataframe tbody tr th:only-of-type {\n",
       "        vertical-align: middle;\n",
       "    }\n",
       "\n",
       "    .dataframe tbody tr th {\n",
       "        vertical-align: top;\n",
       "    }\n",
       "\n",
       "    .dataframe thead th {\n",
       "        text-align: right;\n",
       "    }\n",
       "</style>\n",
       "<table border=\"1\" class=\"dataframe\">\n",
       "  <thead>\n",
       "    <tr style=\"text-align: right;\">\n",
       "      <th></th>\n",
       "      <th>Ciudad</th>\n",
       "      <th>Canal_Venta</th>\n",
       "      <th>Total_Venta</th>\n",
       "    </tr>\n",
       "  </thead>\n",
       "  <tbody>\n",
       "    <tr>\n",
       "      <th>14</th>\n",
       "      <td>Querétaro</td>\n",
       "      <td>Web</td>\n",
       "      <td>723468</td>\n",
       "    </tr>\n",
       "    <tr>\n",
       "      <th>5</th>\n",
       "      <td>GDL</td>\n",
       "      <td>Web</td>\n",
       "      <td>665402</td>\n",
       "    </tr>\n",
       "    <tr>\n",
       "      <th>4</th>\n",
       "      <td>GDL</td>\n",
       "      <td>Sucursal</td>\n",
       "      <td>604446</td>\n",
       "    </tr>\n",
       "    <tr>\n",
       "      <th>8</th>\n",
       "      <td>MTY</td>\n",
       "      <td>Web</td>\n",
       "      <td>565372</td>\n",
       "    </tr>\n",
       "    <tr>\n",
       "      <th>6</th>\n",
       "      <td>MTY</td>\n",
       "      <td>App</td>\n",
       "      <td>562793</td>\n",
       "    </tr>\n",
       "    <tr>\n",
       "      <th>13</th>\n",
       "      <td>Querétaro</td>\n",
       "      <td>Sucursal</td>\n",
       "      <td>547033</td>\n",
       "    </tr>\n",
       "    <tr>\n",
       "      <th>7</th>\n",
       "      <td>MTY</td>\n",
       "      <td>Sucursal</td>\n",
       "      <td>539609</td>\n",
       "    </tr>\n",
       "    <tr>\n",
       "      <th>12</th>\n",
       "      <td>Querétaro</td>\n",
       "      <td>App</td>\n",
       "      <td>535150</td>\n",
       "    </tr>\n",
       "    <tr>\n",
       "      <th>3</th>\n",
       "      <td>GDL</td>\n",
       "      <td>App</td>\n",
       "      <td>497658</td>\n",
       "    </tr>\n",
       "    <tr>\n",
       "      <th>0</th>\n",
       "      <td>CDMX</td>\n",
       "      <td>App</td>\n",
       "      <td>469284</td>\n",
       "    </tr>\n",
       "    <tr>\n",
       "      <th>11</th>\n",
       "      <td>Puebla</td>\n",
       "      <td>Web</td>\n",
       "      <td>446929</td>\n",
       "    </tr>\n",
       "    <tr>\n",
       "      <th>1</th>\n",
       "      <td>CDMX</td>\n",
       "      <td>Sucursal</td>\n",
       "      <td>431809</td>\n",
       "    </tr>\n",
       "    <tr>\n",
       "      <th>2</th>\n",
       "      <td>CDMX</td>\n",
       "      <td>Web</td>\n",
       "      <td>387067</td>\n",
       "    </tr>\n",
       "    <tr>\n",
       "      <th>10</th>\n",
       "      <td>Puebla</td>\n",
       "      <td>Sucursal</td>\n",
       "      <td>377919</td>\n",
       "    </tr>\n",
       "    <tr>\n",
       "      <th>9</th>\n",
       "      <td>Puebla</td>\n",
       "      <td>App</td>\n",
       "      <td>348564</td>\n",
       "    </tr>\n",
       "  </tbody>\n",
       "</table>\n",
       "</div>"
      ],
      "text/plain": [
       "       Ciudad Canal_Venta  Total_Venta\n",
       "14  Querétaro         Web       723468\n",
       "5         GDL         Web       665402\n",
       "4         GDL    Sucursal       604446\n",
       "8         MTY         Web       565372\n",
       "6         MTY         App       562793\n",
       "13  Querétaro    Sucursal       547033\n",
       "7         MTY    Sucursal       539609\n",
       "12  Querétaro         App       535150\n",
       "3         GDL         App       497658\n",
       "0        CDMX         App       469284\n",
       "11     Puebla         Web       446929\n",
       "1        CDMX    Sucursal       431809\n",
       "2        CDMX         Web       387067\n",
       "10     Puebla    Sucursal       377919\n",
       "9      Puebla         App       348564"
      ]
     },
     "execution_count": 4,
     "metadata": {},
     "output_type": "execute_result"
    }
   ],
   "source": [
    "total_canal_y_venta =  df.groupby(['Ciudad', 'Canal_Venta'])['Total_Venta'].sum().reset_index().sort_values(by='Total_Venta', ascending=False)\n",
    "total_canal_y_venta"
   ]
  },
  {
   "cell_type": "markdown",
   "metadata": {},
   "source": [
    "### Top 5 productos mas vendidos por unidades y por ingresos 📦"
   ]
  },
  {
   "cell_type": "code",
   "execution_count": 5,
   "metadata": {},
   "outputs": [
    {
     "data": {
      "text/html": [
       "<div>\n",
       "<style scoped>\n",
       "    .dataframe tbody tr th:only-of-type {\n",
       "        vertical-align: middle;\n",
       "    }\n",
       "\n",
       "    .dataframe tbody tr th {\n",
       "        vertical-align: top;\n",
       "    }\n",
       "\n",
       "    .dataframe thead th {\n",
       "        text-align: right;\n",
       "    }\n",
       "</style>\n",
       "<table border=\"1\" class=\"dataframe\">\n",
       "  <thead>\n",
       "    <tr style=\"text-align: right;\">\n",
       "      <th></th>\n",
       "      <th>Producto</th>\n",
       "      <th>Unidades</th>\n",
       "    </tr>\n",
       "  </thead>\n",
       "  <tbody>\n",
       "    <tr>\n",
       "      <th>2</th>\n",
       "      <td>Laptop</td>\n",
       "      <td>138</td>\n",
       "    </tr>\n",
       "    <tr>\n",
       "      <th>4</th>\n",
       "      <td>Mouse</td>\n",
       "      <td>138</td>\n",
       "    </tr>\n",
       "    <tr>\n",
       "      <th>1</th>\n",
       "      <td>Celular</td>\n",
       "      <td>130</td>\n",
       "    </tr>\n",
       "    <tr>\n",
       "      <th>0</th>\n",
       "      <td>Audífonos</td>\n",
       "      <td>121</td>\n",
       "    </tr>\n",
       "    <tr>\n",
       "      <th>3</th>\n",
       "      <td>Monitor</td>\n",
       "      <td>117</td>\n",
       "    </tr>\n",
       "  </tbody>\n",
       "</table>\n",
       "</div>"
      ],
      "text/plain": [
       "    Producto  Unidades\n",
       "2     Laptop       138\n",
       "4      Mouse       138\n",
       "1    Celular       130\n",
       "0  Audífonos       121\n",
       "3    Monitor       117"
      ]
     },
     "execution_count": 5,
     "metadata": {},
     "output_type": "execute_result"
    }
   ],
   "source": [
    "productos_mas_vendidos_por_unidades = df.groupby('Producto')['Unidades'].sum().reset_index()\n",
    "productos_mas_vendidos_por_unidades = productos_mas_vendidos_por_unidades.sort_values(by='Unidades', ascending=False)\n",
    "productos_mas_vendidos_por_unidades.head()"
   ]
  },
  {
   "cell_type": "code",
   "execution_count": 6,
   "metadata": {},
   "outputs": [
    {
     "data": {
      "text/html": [
       "<div>\n",
       "<style scoped>\n",
       "    .dataframe tbody tr th:only-of-type {\n",
       "        vertical-align: middle;\n",
       "    }\n",
       "\n",
       "    .dataframe tbody tr th {\n",
       "        vertical-align: top;\n",
       "    }\n",
       "\n",
       "    .dataframe thead th {\n",
       "        text-align: right;\n",
       "    }\n",
       "</style>\n",
       "<table border=\"1\" class=\"dataframe\">\n",
       "  <thead>\n",
       "    <tr style=\"text-align: right;\">\n",
       "      <th></th>\n",
       "      <th>Producto</th>\n",
       "      <th>Total_Venta</th>\n",
       "    </tr>\n",
       "  </thead>\n",
       "  <tbody>\n",
       "    <tr>\n",
       "      <th>4</th>\n",
       "      <td>Mouse</td>\n",
       "      <td>1432972</td>\n",
       "    </tr>\n",
       "    <tr>\n",
       "      <th>1</th>\n",
       "      <td>Celular</td>\n",
       "      <td>1350682</td>\n",
       "    </tr>\n",
       "    <tr>\n",
       "      <th>2</th>\n",
       "      <td>Laptop</td>\n",
       "      <td>1327434</td>\n",
       "    </tr>\n",
       "    <tr>\n",
       "      <th>0</th>\n",
       "      <td>Audífonos</td>\n",
       "      <td>1255141</td>\n",
       "    </tr>\n",
       "    <tr>\n",
       "      <th>5</th>\n",
       "      <td>Teclado</td>\n",
       "      <td>1187118</td>\n",
       "    </tr>\n",
       "  </tbody>\n",
       "</table>\n",
       "</div>"
      ],
      "text/plain": [
       "    Producto  Total_Venta\n",
       "4      Mouse      1432972\n",
       "1    Celular      1350682\n",
       "2     Laptop      1327434\n",
       "0  Audífonos      1255141\n",
       "5    Teclado      1187118"
      ]
     },
     "execution_count": 6,
     "metadata": {},
     "output_type": "execute_result"
    }
   ],
   "source": [
    "productos_por_ingresos = df.groupby('Producto')['Total_Venta'].sum().reset_index()\n",
    "productos_por_ingresos = productos_por_ingresos.sort_values(by='Total_Venta', ascending=False)\n",
    "productos_por_ingresos.head()"
   ]
  },
  {
   "cell_type": "markdown",
   "metadata": {},
   "source": [
    "### Clientes con mas compras (por cantidad y monto) 👤"
   ]
  },
  {
   "cell_type": "code",
   "execution_count": 7,
   "metadata": {},
   "outputs": [
    {
     "data": {
      "text/html": [
       "<div>\n",
       "<style scoped>\n",
       "    .dataframe tbody tr th:only-of-type {\n",
       "        vertical-align: middle;\n",
       "    }\n",
       "\n",
       "    .dataframe tbody tr th {\n",
       "        vertical-align: top;\n",
       "    }\n",
       "\n",
       "    .dataframe thead th {\n",
       "        text-align: right;\n",
       "    }\n",
       "</style>\n",
       "<table border=\"1\" class=\"dataframe\">\n",
       "  <thead>\n",
       "    <tr style=\"text-align: right;\">\n",
       "      <th></th>\n",
       "      <th>Cliente_ID</th>\n",
       "      <th>Frecuencia</th>\n",
       "    </tr>\n",
       "  </thead>\n",
       "  <tbody>\n",
       "    <tr>\n",
       "      <th>0</th>\n",
       "      <td>C047</td>\n",
       "      <td>10</td>\n",
       "    </tr>\n",
       "    <tr>\n",
       "      <th>2</th>\n",
       "      <td>C033</td>\n",
       "      <td>9</td>\n",
       "    </tr>\n",
       "    <tr>\n",
       "      <th>3</th>\n",
       "      <td>C046</td>\n",
       "      <td>9</td>\n",
       "    </tr>\n",
       "    <tr>\n",
       "      <th>4</th>\n",
       "      <td>C020</td>\n",
       "      <td>9</td>\n",
       "    </tr>\n",
       "    <tr>\n",
       "      <th>5</th>\n",
       "      <td>C032</td>\n",
       "      <td>9</td>\n",
       "    </tr>\n",
       "  </tbody>\n",
       "</table>\n",
       "</div>"
      ],
      "text/plain": [
       "  Cliente_ID  Frecuencia\n",
       "0       C047          10\n",
       "2       C033           9\n",
       "3       C046           9\n",
       "4       C020           9\n",
       "5       C032           9"
      ]
     },
     "execution_count": 7,
     "metadata": {},
     "output_type": "execute_result"
    }
   ],
   "source": [
    "clientes_mas_frecuentes = df['Cliente_ID'].value_counts().reset_index()\n",
    "clientes_mas_frecuentes.columns = ['Cliente_ID', 'Frecuencia']\n",
    "clientes_mas_frecuentes = clientes_mas_frecuentes.sort_values(by='Frecuencia', ascending=False)\n",
    "clientes_mas_frecuentes.head()"
   ]
  },
  {
   "cell_type": "code",
   "execution_count": 8,
   "metadata": {},
   "outputs": [
    {
     "data": {
      "text/html": [
       "<div>\n",
       "<style scoped>\n",
       "    .dataframe tbody tr th:only-of-type {\n",
       "        vertical-align: middle;\n",
       "    }\n",
       "\n",
       "    .dataframe tbody tr th {\n",
       "        vertical-align: top;\n",
       "    }\n",
       "\n",
       "    .dataframe thead th {\n",
       "        text-align: right;\n",
       "    }\n",
       "</style>\n",
       "<table border=\"1\" class=\"dataframe\">\n",
       "  <thead>\n",
       "    <tr style=\"text-align: right;\">\n",
       "      <th></th>\n",
       "      <th>Cliente_ID</th>\n",
       "      <th>Unidades</th>\n",
       "    </tr>\n",
       "  </thead>\n",
       "  <tbody>\n",
       "    <tr>\n",
       "      <th>46</th>\n",
       "      <td>C047</td>\n",
       "      <td>31</td>\n",
       "    </tr>\n",
       "    <tr>\n",
       "      <th>17</th>\n",
       "      <td>C018</td>\n",
       "      <td>23</td>\n",
       "    </tr>\n",
       "    <tr>\n",
       "      <th>43</th>\n",
       "      <td>C044</td>\n",
       "      <td>23</td>\n",
       "    </tr>\n",
       "    <tr>\n",
       "      <th>31</th>\n",
       "      <td>C032</td>\n",
       "      <td>22</td>\n",
       "    </tr>\n",
       "    <tr>\n",
       "      <th>4</th>\n",
       "      <td>C005</td>\n",
       "      <td>22</td>\n",
       "    </tr>\n",
       "  </tbody>\n",
       "</table>\n",
       "</div>"
      ],
      "text/plain": [
       "   Cliente_ID  Unidades\n",
       "46       C047        31\n",
       "17       C018        23\n",
       "43       C044        23\n",
       "31       C032        22\n",
       "4        C005        22"
      ]
     },
     "execution_count": 8,
     "metadata": {},
     "output_type": "execute_result"
    }
   ],
   "source": [
    "clientes_por_cantidad = df.groupby('Cliente_ID')['Unidades'].sum().reset_index()\n",
    "clientes_por_cantidad = clientes_por_cantidad.sort_values(by='Unidades', ascending=False)\n",
    "clientes_por_cantidad.head()"
   ]
  },
  {
   "cell_type": "code",
   "execution_count": 9,
   "metadata": {},
   "outputs": [
    {
     "data": {
      "text/html": [
       "<div>\n",
       "<style scoped>\n",
       "    .dataframe tbody tr th:only-of-type {\n",
       "        vertical-align: middle;\n",
       "    }\n",
       "\n",
       "    .dataframe tbody tr th {\n",
       "        vertical-align: top;\n",
       "    }\n",
       "\n",
       "    .dataframe thead th {\n",
       "        text-align: right;\n",
       "    }\n",
       "</style>\n",
       "<table border=\"1\" class=\"dataframe\">\n",
       "  <thead>\n",
       "    <tr style=\"text-align: right;\">\n",
       "      <th></th>\n",
       "      <th>Cliente_ID</th>\n",
       "      <th>Total_Venta</th>\n",
       "    </tr>\n",
       "  </thead>\n",
       "  <tbody>\n",
       "    <tr>\n",
       "      <th>43</th>\n",
       "      <td>C044</td>\n",
       "      <td>350884</td>\n",
       "    </tr>\n",
       "    <tr>\n",
       "      <th>46</th>\n",
       "      <td>C047</td>\n",
       "      <td>314729</td>\n",
       "    </tr>\n",
       "    <tr>\n",
       "      <th>4</th>\n",
       "      <td>C005</td>\n",
       "      <td>290842</td>\n",
       "    </tr>\n",
       "    <tr>\n",
       "      <th>17</th>\n",
       "      <td>C018</td>\n",
       "      <td>275318</td>\n",
       "    </tr>\n",
       "    <tr>\n",
       "      <th>6</th>\n",
       "      <td>C007</td>\n",
       "      <td>241409</td>\n",
       "    </tr>\n",
       "  </tbody>\n",
       "</table>\n",
       "</div>"
      ],
      "text/plain": [
       "   Cliente_ID  Total_Venta\n",
       "43       C044       350884\n",
       "46       C047       314729\n",
       "4        C005       290842\n",
       "17       C018       275318\n",
       "6        C007       241409"
      ]
     },
     "execution_count": 9,
     "metadata": {},
     "output_type": "execute_result"
    }
   ],
   "source": [
    "clentes_por_monto = df.groupby('Cliente_ID')['Total_Venta'].sum().reset_index()\n",
    "clentes_por_monto = clentes_por_monto.sort_values(by='Total_Venta', ascending=False)\n",
    "clentes_por_monto.head()"
   ]
  },
  {
   "cell_type": "code",
   "execution_count": 10,
   "metadata": {},
   "outputs": [
    {
     "data": {
      "text/plain": [
       "np.float64(25821.941587301586)"
      ]
     },
     "execution_count": 10,
     "metadata": {},
     "output_type": "execute_result"
    }
   ],
   "source": [
    "ticket_promedio_por_cliente = df.groupby('Cliente_ID')['Total_Venta'].mean().reset_index()\n",
    "ticket_promedio_por_cliente['Total_Venta'].mean()"
   ]
  },
  {
   "cell_type": "markdown",
   "metadata": {},
   "source": [
    "### Analisis mensual de ventas (tendencia por mes)🕒"
   ]
  },
  {
   "cell_type": "code",
   "execution_count": 11,
   "metadata": {},
   "outputs": [
    {
     "data": {
      "text/html": [
       "<div>\n",
       "<style scoped>\n",
       "    .dataframe tbody tr th:only-of-type {\n",
       "        vertical-align: middle;\n",
       "    }\n",
       "\n",
       "    .dataframe tbody tr th {\n",
       "        vertical-align: top;\n",
       "    }\n",
       "\n",
       "    .dataframe thead th {\n",
       "        text-align: right;\n",
       "    }\n",
       "</style>\n",
       "<table border=\"1\" class=\"dataframe\">\n",
       "  <thead>\n",
       "    <tr style=\"text-align: right;\">\n",
       "      <th></th>\n",
       "      <th>Fecha</th>\n",
       "      <th>Total_Venta</th>\n",
       "      <th>Unidades</th>\n",
       "      <th>Pedido_ID</th>\n",
       "    </tr>\n",
       "  </thead>\n",
       "  <tbody>\n",
       "    <tr>\n",
       "      <th>0</th>\n",
       "      <td>2024-01-01</td>\n",
       "      <td>1214954</td>\n",
       "      <td>109</td>\n",
       "      <td>51</td>\n",
       "    </tr>\n",
       "    <tr>\n",
       "      <th>1</th>\n",
       "      <td>2024-02-01</td>\n",
       "      <td>1460068</td>\n",
       "      <td>132</td>\n",
       "      <td>50</td>\n",
       "    </tr>\n",
       "    <tr>\n",
       "      <th>2</th>\n",
       "      <td>2024-03-01</td>\n",
       "      <td>1423481</td>\n",
       "      <td>138</td>\n",
       "      <td>57</td>\n",
       "    </tr>\n",
       "    <tr>\n",
       "      <th>3</th>\n",
       "      <td>2024-04-01</td>\n",
       "      <td>1095133</td>\n",
       "      <td>114</td>\n",
       "      <td>49</td>\n",
       "    </tr>\n",
       "    <tr>\n",
       "      <th>4</th>\n",
       "      <td>2024-05-01</td>\n",
       "      <td>1319601</td>\n",
       "      <td>125</td>\n",
       "      <td>44</td>\n",
       "    </tr>\n",
       "    <tr>\n",
       "      <th>5</th>\n",
       "      <td>2024-06-01</td>\n",
       "      <td>1189266</td>\n",
       "      <td>126</td>\n",
       "      <td>49</td>\n",
       "    </tr>\n",
       "  </tbody>\n",
       "</table>\n",
       "</div>"
      ],
      "text/plain": [
       "       Fecha  Total_Venta  Unidades  Pedido_ID\n",
       "0 2024-01-01      1214954       109         51\n",
       "1 2024-02-01      1460068       132         50\n",
       "2 2024-03-01      1423481       138         57\n",
       "3 2024-04-01      1095133       114         49\n",
       "4 2024-05-01      1319601       125         44\n",
       "5 2024-06-01      1189266       126         49"
      ]
     },
     "execution_count": 11,
     "metadata": {},
     "output_type": "execute_result"
    }
   ],
   "source": [
    "analisis_mensual = df.groupby(df['Fecha'].dt.to_period('M')).agg({\n",
    "    'Total_Venta': 'sum',\n",
    "    'Unidades': 'sum',\n",
    "    'Pedido_ID': 'count'\n",
    "}).reset_index()\n",
    "analisis_mensual['Fecha'] = analisis_mensual['Fecha'].dt.to_timestamp()\n",
    "analisis_mensual = analisis_mensual.sort_values(by='Fecha')\n",
    "analisis_mensual"
   ]
  },
  {
   "cell_type": "markdown",
   "metadata": {},
   "source": [
    "## DASHBOARDS 📊"
   ]
  },
  {
   "cell_type": "markdown",
   "metadata": {},
   "source": [
    "#### venta po canal"
   ]
  },
  {
   "cell_type": "code",
   "execution_count": 12,
   "metadata": {},
   "outputs": [
    {
     "data": {
      "image/png": "[encoded data removed]",
      "text/plain": [
       "<Figure size 640x480 with 1 Axes>"
      ]
     },
     "metadata": {},
     "output_type": "display_data"
    }
   ],
   "source": [
    "import matplotlib.pyplot as plt\n",
    "\n",
    "fig, ax = plt.subplots()        \n",
    "\n",
    "ventas_por_canal.plot(kind='bar', x='Canal_Venta', y='Total_Venta', ax=ax, color='skyblue')\n",
    "ax.set_title('Ventas Totales por Canal de Venta')\n",
    "ax.set_ylabel('Total de Ventas')\n",
    "ax.set_xlabel('Canal de Venta')\n",
    "plt.xticks(rotation=45)\n",
    "plt.tight_layout()\n",
    "plt.show()"
   ]
  },
  {
   "cell_type": "markdown",
   "metadata": {},
   "source": [
    "### Ventas por categoria"
   ]
  },
  {
   "cell_type": "code",
   "execution_count": 13,
   "metadata": {},
   "outputs": [
    {
     "data": {
      "image/png": "[encoded data removed]",
      "text/plain": [
       "<Figure size 640x480 with 1 Axes>"
      ]
     },
     "metadata": {},
     "output_type": "display_data"
    }
   ],
   "source": [
    "fig, ax = plt.subplots()\n",
    "ax.pie(productos_mas_vendidos_por_unidades['Unidades'],\n",
    "       labels=productos_mas_vendidos_por_unidades['Producto'],\n",
    "       autopct='%1.1f%%', startangle=140)\n",
    "ax.set_title('Productos Más Vendidos por Unidades')\n",
    "plt.tight_layout()\n",
    "plt.show()"
   ]
  },
  {
   "cell_type": "markdown",
   "metadata": {},
   "source": [
    "### Ventas mensuales"
   ]
  },
  {
   "cell_type": "code",
   "execution_count": 14,
   "metadata": {},
   "outputs": [
    {
     "data": {
      "image/png": "[encoded data removed]",
      "text/plain": [
       "<Figure size 640x480 with 1 Axes>"
      ]
     },
     "metadata": {},
     "output_type": "display_data"
    }
   ],
   "source": [
    "fig, ax = plt.subplots()\n",
    "analisis_mensual.plot(kind='line', x='Fecha', y='Total_Venta', ax=ax, marker='o')\n",
    "ax.set_title('Análisis Mensual de Ventas')\n",
    "ax.set_ylabel('Total de Ventas')\n",
    "ax.set_xlabel('Fecha')\n",
    "plt.xticks(rotation=45)\n",
    "plt.tight_layout()\n",
    "plt.show()"
   ]
  },
  {
   "cell_type": "markdown",
   "metadata": {},
   "source": [
    "# KPI's 🎯"
   ]
  },
  {
   "cell_type": "markdown",
   "metadata": {},
   "source": [
    "#### El ticket promedio por cliente es de 25821.94\n",
    "\n",
    "#### La participacion de canales va de siguiente manera\n",
    "1. WEB\n",
    "2. SUCURSAL \n",
    "3. APP \n",
    "\n",
    "#### La ciudad con mejor desempeño es QUERETARO\n",
    "\n",
    "#### Nuestro producto estrella es el mouse\n",
    "\n",
    "#### Nuestros primeros 5 clientes VIP son \n",
    "1. C047\n",
    "2. C033\n",
    "3. C046\n",
    "4. C020\n",
    "5. C032"
   ]
  },
  {
   "cell_type": "markdown",
   "metadata": {},
   "source": [
    "#### Hay 38 clientes que son de fidelizacion"
   ]
  }
 ],
 "metadata": {
  "kernelspec": {
   "display_name": "Python 3",
   "language": "python",
   "name": "python3"
  },
  "language_info": {
   "codemirror_mode": {
    "name": "ipython",
    "version": 3
   },
   "file_extension": ".py",
   "mimetype": "text/x-python",
   "name": "python",
   "nbconvert_exporter": "python",
   "pygments_lexer": "ipython3",
   "version": "3.12.8"
  }
 },
 "nbformat": 4,
 "nbformat_minor": 2
}
